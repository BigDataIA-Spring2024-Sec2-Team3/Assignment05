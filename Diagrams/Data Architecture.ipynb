{
 "cells": [
  {
   "cell_type": "code",
   "execution_count": 14,
   "id": "389f855f",
   "metadata": {},
   "outputs": [],
   "source": [
    "from diagrams import Diagram, Cluster\n",
    "from diagrams.custom import Custom\n",
    "from diagrams.generic.storage import Storage\n",
    "from diagrams.onprem.client import Users\n",
    "from diagrams.onprem.compute import Server\n",
    "from diagrams.onprem.inmemory import Redis\n",
    "from diagrams.onprem.client import Client\n",
    "from diagrams.programming.language import Python\n",
    "\n",
    "with Diagram(\"RAG-based OpenAI Data Architecture\", show=False):\n",
    "    cfa_website = Custom(\"CFA Website\", \"cfa.png\")\n",
    "\n",
    "    with Cluster(\"Web Scraping\"):\n",
    "        selenium = Python(\"Selenium\")\n",
    "        beautifulsoup = Python(\"BeautifulSoup\")\n",
    "\n",
    "    with Cluster(\"OpenAI API\"):\n",
    "        openai_api = Custom(\"OpenAI API-3.5\", \"openai.png\")\n",
    "\n",
    "    with Cluster(\"Retrieval Augmentation\"):\n",
    "        pinecone = Storage(\"Pinecone\")\n",
    "        rag = Server(\"RAG\")\n",
    "\n",
    "    with Cluster(\"PDF Scraping\"):\n",
    "        pdf_scraping = Server(\"Tabula\")\n",
    "\n",
    "    with Cluster(\"Containerization\"):\n",
    "        with Cluster(\"User Interaction\"):\n",
    "            streamlit = Custom(\"Streamlit\", \"streamlit.png\")\n",
    "            fastapi = Custom(\"FastAPI\", \"fastapi.png\")\n",
    "        docker = Custom(\"\", \"docker.png\")\n",
    "\n",
    "    user = Users(\"User\")\n",
    "\n",
    "    cfa_website >> selenium\n",
    "    selenium >> beautifulsoup >> pinecone\n",
    "    pinecone << rag\n",
    "    pinecone >> openai_api\n",
    "    openai_api >> pinecone\n",
    "    fastapi >> pinecone\n",
    "    fastapi << streamlit\n",
    "    user >> streamlit\n"
   ]
  },
  {
   "cell_type": "code",
   "execution_count": null,
   "id": "ccfea7b8",
   "metadata": {},
   "outputs": [],
   "source": []
  }
 ],
 "metadata": {
  "kernelspec": {
   "display_name": "Python 3 (ipykernel)",
   "language": "python",
   "name": "python3"
  },
  "language_info": {
   "codemirror_mode": {
    "name": "ipython",
    "version": 3
   },
   "file_extension": ".py",
   "mimetype": "text/x-python",
   "name": "python",
   "nbconvert_exporter": "python",
   "pygments_lexer": "ipython3",
   "version": "3.9.13"
  }
 },
 "nbformat": 4,
 "nbformat_minor": 5
}
