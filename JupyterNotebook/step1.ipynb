{
 "cells": [
  {
   "cell_type": "code",
   "execution_count": 43,
   "metadata": {},
   "outputs": [],
   "source": [
    "## Pre-Creating knowledge of LOS\n",
    "import snowflake.connector\n",
    "import pandas as pd\n",
    "from pathlib import Path\n",
    "from dotenv import load_dotenv\n",
    "import os\n",
    "load_dotenv(override=True)\n",
    "from openai import OpenAI\n",
    "import os\n",
    "import openai\n",
    "import pinecone\n",
    "from langchain.document_loaders import DirectoryLoader\n",
    "from langchain.text_splitter import RecursiveCharacterTextSplitter\n",
    "from langchain.embeddings.openai import OpenAIEmbeddings\n",
    "from langchain.vectorstores import Pinecone\n",
    "from langchain.llms import OpenAI\n",
    "from langchain.chains.question_answering import load_qa_chain"
   ]
  },
  {
   "cell_type": "code",
   "execution_count": 7,
   "metadata": {},
   "outputs": [],
   "source": [
    "\n",
    "# Snowflake config\n",
    "snowflake_user = os.getenv('SNOWFLAKE_USER')\n",
    "snowflake_password = os.getenv('SNOWFLAKE_PASS')\n",
    "snowflake_account = os.getenv('SNOWFLAKE_ACCOUNTID')\n",
    "database = os.getenv('SNOWFLAKE_DATABASE')\n",
    "schema = os.getenv('SNOWFLAKE_SCHEMA')\n",
    "warehouse = os.getenv('SNOWFLAKE_WAREHOUSE')\n",
    "\n",
    "def get_3_data():\n",
    "    \"\"\"get Introduction LOS Summary\"\"\"\n",
    "    df = {}\n",
    "    try:\n",
    "        conn = snowflake.connector.connect(       \n",
    "            user=snowflake_user,\n",
    "            password=snowflake_password,\n",
    "            account=snowflake_account,\n",
    "            warehouse=warehouse,\n",
    "            database=database,\n",
    "            schema=schema,\n",
    "        )\n",
    "        \n",
    "        # run the sql query to get data from snowflake\n",
    "        cursor = conn.cursor()\n",
    "        sql = f\"SELECT NAMEOFTOPIC, INTRODUCTION, LEARNINGOUTCOME, SUMMARY FROM CFA_COURSES ;\"\n",
    "\n",
    "        results = cursor.execute(sql)\n",
    "        if results is not None:\n",
    "            df = pd.DataFrame(results.fetchall())\n",
    "            df.columns = ['Topic','Introduction', 'Learning outcomes', 'Summary']\n",
    "        else:\n",
    "            print('Fail to get data. Try again')\n",
    "    except NameError as e:\n",
    "        print(f'Program fail: {e}')\n",
    "    finally:\n",
    "        cursor.close()\n",
    "        conn.close()\n",
    "\n",
    "    return df\n",
    "\n",
    "df = get_3_data()\n"
   ]
  },
  {
   "cell_type": "code",
   "execution_count": 37,
   "metadata": {},
   "outputs": [],
   "source": [
    "\n",
    "def creat_knowledge(topic, introduction, summary, los):\n",
    "\n",
    "    client = OpenAI()\n",
    "    response = client.chat.completions.create(\n",
    "    model=\"gpt-3.5-turbo-0125\",\n",
    "    messages=[\n",
    "        {\"role\": \"system\", \"content\": \"\"\"You are a helpful assistant to generate techincal note for CFA Refresher Readings articles. Based on the information provided in the prompt by user, create a technical note in Markdown format that summarizes only the key Learning outcomes\n",
    "          under \"Summary of Key Learning Outcome\" heading. Be sure to include any tables or equations necessary. Do not provide any introduction or conclusion. The \"Summary of Learning outcomes\" should have bullets only format which will be used as Knowledge Base for future prompts.\"\"\"},\n",
    "        {\"role\": \"user\", \"content\": f\"\"\"## Topic\\n{topic}\\n\\n## Introduction\\n{introduction}\\n\\n## Summary\\n{summary}\\n\\n## Learning Outcomes\\n{los}\\n\"\"\"}\n",
    "    ]\n",
    "    )\n",
    "    return response"
   ]
  },
  {
   "cell_type": "code",
   "execution_count": 39,
   "metadata": {},
   "outputs": [
    {
     "name": "stdout",
     "output_type": "stream",
     "text": [
      "8\n"
     ]
    }
   ],
   "source": [
    "response_list = []\n",
    "for i in range(4):\n",
    "    topic, intro, los, summary = df.loc[i]\n",
    "    resp = creat_knowledge(topic, intro, summary, los)\n",
    "    response_list.append(los)\n",
    "    response_list.append(resp.choices[0].message.content)\n",
    "\n",
    "print(len(response_list))"
   ]
  },
  {
   "cell_type": "code",
   "execution_count": 40,
   "metadata": {},
   "outputs": [
    {
     "name": "stdout",
     "output_type": "stream",
     "text": [
      "['interpret interest rates as required rates of return, discount rates, or opportunity costs;\\nexplain an interest rate as the sum of a real risk-free rate and premiums that compensate investors for bearing distinct types of risk;\\ncalculate and interpret the effective annual rate, given the stated annual interest rate and the frequency of compounding;\\nsolve time value of money problems for different frequencies of compounding;\\ncalculate and interpret the future value (FV) and present value (PV) of a single sum of money, an ordinary annuity, an annuity due, a perpetuity (PV only), and a series of unequal cash flows;\\ndemonstrate the use of a time line in modeling and solving time value of money problems.', '## Summary of Key Learning Outcome\\n\\n- Interpret interest rates as required rates of return, discount rates, or opportunity costs.\\n- Explain an interest rate as the sum of a real risk-free rate and premiums that compensate investors for bearing distinct types of risk.\\n- Calculate and interpret the effective annual rate, given the stated annual interest rate and the frequency of compounding.\\n- Solve time value of money problems for different frequencies of compounding.\\n- Calculate and interpret the future value (FV) and present value (PV) of a single sum of money, an ordinary annuity, an annuity due, a perpetuity (PV only), and a series of unequal cash flows.\\n- Demonstrate the use of a time line in modeling and solving time value of money problems.', 'define a probability distribution and distinguish between discrete and continuous\\n                     random variables and their probability functions;\\ndescribe the set of possible outcomes of a specified discrete random variable;\\ninterpret a cumulative distribution function;\\ncalculate and interpret probabilities for a random variable, given its cumulative\\n                     distribution function;\\ndefine a discrete uniform random variable, a Bernoulli random variable, and a binomial\\n                     random variable;\\ncalculate and interpret probabilities given the discrete uniform and the binomial\\n                     distribution functions;\\nconstruct a binomial tree to describe stock price movement;\\ndefine the continuous uniform distribution and calculate and interpret probabilities,\\n                     given a continuous uniform distribution;\\nexplain the key properties of the normal distribution;\\ndistinguish between a univariate and a multivariate distribution and explain the role\\n                     of correlation in the multivariate normal distribution;\\ndetermine the probability that a normally distributed random variable lies inside\\n                     a given interval;\\ndefine the standard normal distribution, explain how to standardize a random variable,\\n                     and calculate and interpret probabilities using the standard normal distribution;\\ndefine shortfall risk, calculate the safety-first ratio, and select an optimal portfolio\\n                     using Roy’s safety-first criterion;\\nexplain the relationship between normal and lognormal distributions and why the lognormal\\n                     distribution is used to model asset prices;\\ndistinguish between discretely and continuously compounded rates of return and calculate\\n                     and interpret a continuously compounded rate of return, given a specific holding period\\n                     return;\\ndescribe Monte Carlo simulation.', '## Summary of Key Learning Outcome\\n\\n- A probability distribution specifies the probabilities of the possible outcomes of a random variable.\\n- Discrete random variables take on a countable number of possible outcomes, while continuous random variables have infinite possible outcomes.\\n- Probability function defines the probability of a random variable taking a specific value.\\n- Cumulative distribution function gives the probability that the random variable is less than or equal to a certain value.\\n- Binomial random variable represents the number of successes in Bernoulli trials with a constant probability of success.\\n- Normal distribution is described by mean and variance and approximately follows 68-95-99 rule.\\n- Lognormal distribution models asset prices with a right-skewed distribution bounded below by zero.\\n- Monte Carlo simulation involves generating random samples from probability distributions to model complex financial systems.', 'describe the types of investment problems addressed by multiple linear regression and the regression process;\\nformulate a multiple linear regression model, describe the relation between the dependent variable and several independent variables, and interpret estimated regression coefficients; and\\nexplain the assumptions underlying a multiple linear regression model and interpret residual plots indicating potential violations of these assumptions.', '## Summary of Key Learning Outcomes\\n\\n- Types of investment problems addressed by multiple linear regression and the regression process\\n- Formulating a multiple linear regression model, interpreting estimated regression coefficients\\n- Explaining the assumptions underlying a multiple linear regression model and interpreting residual plots for potential violations of these assumptions', 'define a random variable, an outcome, and an event;\\nidentify the two defining properties of probability, including mutually exclusive and exhaustive events, and compare and contrast empirical, subjective, and a priori probabilities;\\ndescribe the probability of an event in terms of odds for and against the event;\\ncalculate and interpret conditional probabilities;\\ndemonstrate the application of the multiplication and addition rules for probability;\\ncompare and contrast dependent and independent events;\\ncalculate and interpret an unconditional probability using the total probability rule;\\ncalculate and interpret the expected value, variance, and standard deviation of random variables;\\nexplain the use of conditional expectation in investment applications;\\ninterpret a probability tree and demonstrate its application to investment problems;\\ncalculate and interpret the expected value, variance, standard deviation, covariances, and correlations of portfolio returns;\\ncalculate and interpret the covariances of portfolio returns using the joint probability function;\\ncalculate and interpret an updated probability using Bayes’ formula;\\nidentify the most appropriate method to solve a particular counting problem and analyze counting problems using factorial, combination, and permutation concepts.', '## Summary of Key Learning Outcomes\\n\\n- Define a random variable, an outcome, and an event.\\n- Identify the two defining properties of probability, including mutually exclusive and exhaustive events, and compare and contrast empirical, subjective, and a priori probabilities.\\n- Describe the probability of an event in terms of odds for and against the event.\\n- Calculate and interpret conditional probabilities.\\n- Demonstrate the application of the multiplication and addition rules for probability.\\n- Compare and contrast dependent and independent events.\\n- Calculate and interpret an unconditional probability using the total probability rule.\\n- Calculate and interpret the expected value, variance, and standard deviation of random variables.\\n- Explain the use of conditional expectation in investment applications.\\n- Interpret a probability tree and demonstrate its application to investment problems.\\n- Calculate and interpret the expected value, variance, standard deviation, covariances, and correlations of portfolio returns.\\n- Calculate and interpret the covariances of portfolio returns using the joint probability function.\\n- Calculate and interpret an updated probability using Bayes’ formula.\\n- Identify the most appropriate method to solve a particular counting problem and analyze counting problems using factorial, combination, and permutation concepts.']\n"
     ]
    }
   ],
   "source": [
    "print(response_list)"
   ]
  },
  {
   "cell_type": "code",
   "execution_count": 45,
   "metadata": {},
   "outputs": [],
   "source": [
    "import tiktoken\n",
    "\n",
    "tokenizer = tiktoken.get_encoding('p50k_base')\n",
    "\n",
    "# create the length function\n",
    "def tiktoken_len(text):\n",
    "    tokens = tokenizer.encode(\n",
    "        text,\n",
    "        disallowed_special=()\n",
    "    )\n",
    "    return len(tokens)"
   ]
  },
  {
   "cell_type": "code",
   "execution_count": 55,
   "metadata": {},
   "outputs": [],
   "source": [
    "from langchain.text_splitter import RecursiveCharacterTextSplitter\n",
    "\n",
    "text_splitter = RecursiveCharacterTextSplitter(\n",
    "    chunk_size=100,\n",
    "    chunk_overlap=20,\n",
    "    length_function=tiktoken_len,\n",
    "    separators=[\"\\n\\n\", \"\\n\", \" \", \"\"]\n",
    ")"
   ]
  },
  {
   "cell_type": "code",
   "execution_count": 56,
   "metadata": {},
   "outputs": [
    {
     "name": "stderr",
     "output_type": "stream",
     "text": [
      "100%|██████████| 8/8 [00:00<00:00, 2060.32it/s]\n"
     ]
    }
   ],
   "source": [
    "from uuid import uuid4\n",
    "from tqdm.auto import tqdm\n",
    "\n",
    "chunks = []\n",
    "for idx, text in enumerate(tqdm(response_list)):\n",
    "    if isinstance(text, str):  # Check if the item is a string\n",
    "        texts = text_splitter.split_text(text)\n",
    "        chunks.extend([{\n",
    "            'id': str(uuid4()),\n",
    "            'text': texts[i],\n",
    "            'chunk': i,\n",
    "            'url': None  # No URL available for this case\n",
    "        } for i in range(len(texts))])\n",
    "    else:\n",
    "        print(f\"Skipping item at index {idx} as it is not a string\")\n"
   ]
  },
  {
   "cell_type": "code",
   "execution_count": 57,
   "metadata": {},
   "outputs": [
    {
     "name": "stdout",
     "output_type": "stream",
     "text": [
      "22\n"
     ]
    }
   ],
   "source": [
    "print(len(chunks))"
   ]
  },
  {
   "cell_type": "code",
   "execution_count": null,
   "metadata": {},
   "outputs": [],
   "source": [
    "!pip install tiktoken -q"
   ]
  },
  {
   "cell_type": "code",
   "execution_count": null,
   "metadata": {},
   "outputs": [],
   "source": [
    "!pip install pinecone-client -q"
   ]
  },
  {
   "cell_type": "code",
   "execution_count": null,
   "metadata": {},
   "outputs": [],
   "source": [
    "embeddings = OpenAIEmbeddings(model_name=\"ada\")\n",
    "\n",
    "query_result = embeddings.embed_query(\"Hello world\")\n",
    "len(query_result)"
   ]
  },
  {
   "cell_type": "code",
   "execution_count": null,
   "metadata": {},
   "outputs": [],
   "source": [
    "pinecone.init(\n",
    "    api_key=\"pinecone api key\",\n",
    "    environment=\"env\"\n",
    ")\n",
    "\n",
    "index_name = \"langchain-demo\"\n",
    "\n",
    "index = Pinecone.from_documents(docs, embeddings, index_name=index_name)"
   ]
  }
 ],
 "metadata": {
  "kernelspec": {
   "display_name": ".venv",
   "language": "python",
   "name": "python3"
  },
  "language_info": {
   "codemirror_mode": {
    "name": "ipython",
    "version": 3
   },
   "file_extension": ".py",
   "mimetype": "text/x-python",
   "name": "python",
   "nbconvert_exporter": "python",
   "pygments_lexer": "ipython3",
   "version": "3.11.1"
  }
 },
 "nbformat": 4,
 "nbformat_minor": 2
}
