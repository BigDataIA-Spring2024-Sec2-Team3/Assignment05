{
 "cells": [
  {
   "cell_type": "code",
   "execution_count": 1,
   "metadata": {},
   "outputs": [],
   "source": [
    "## Pre-Creating knowledge of LOS\n",
    "import snowflake.connector\n",
    "import pandas as pd\n",
    "from pathlib import Path\n",
    "from dotenv import load_dotenv\n",
    "import os\n",
    "load_dotenv(override=True)\n",
    "from openai import OpenAI\n",
    "\n",
    "\n",
    "\n"
   ]
  },
  {
   "cell_type": "code",
   "execution_count": 2,
   "metadata": {},
   "outputs": [],
   "source": [
    "\n",
    "# Snowflake config\n",
    "snowflake_user = os.getenv('SNOWFLAKE_USER')\n",
    "snowflake_password = os.getenv('SNOWFLAKE_PASS')\n",
    "snowflake_account = os.getenv('SNOWFLAKE_ACCOUNTID')\n",
    "database = os.getenv('SNOWFLAKE_DATABASE')\n",
    "schema = os.getenv('SNOWFLAKE_SCHEMA')\n",
    "warehouse = os.getenv('SNOWFLAKE_WAREHOUSE')\n",
    "\n",
    "def get_3_data():\n",
    "    \"\"\"get Introduction LOS Summary\"\"\"\n",
    "    df = {}\n",
    "    try:\n",
    "        conn = snowflake.connector.connect(       \n",
    "            user=snowflake_user,\n",
    "            password=snowflake_password,\n",
    "            account=snowflake_account,\n",
    "            warehouse=warehouse,\n",
    "            database=database,\n",
    "            schema=schema,\n",
    "        )\n",
    "        \n",
    "        # run the sql query to get data from snowflake\n",
    "        cursor = conn.cursor()\n",
    "        sql = f\"SELECT NAMEOFTOPIC, INTRODUCTION, LEARNINGOUTCOME, SUMMARY FROM CFA_COURSES ;\"\n",
    "\n",
    "        results = cursor.execute(sql)\n",
    "        if results is not None:\n",
    "            df = pd.DataFrame(results.fetchall())\n",
    "            df.columns = ['Topic','Introduction', 'Learning outcomes', 'Summary']\n",
    "        else:\n",
    "            print('Fail to get data. Try again')\n",
    "    except NameError as e:\n",
    "        print(f'Program fail: {e}')\n",
    "    finally:\n",
    "        cursor.close()\n",
    "        conn.close()\n",
    "\n",
    "    return df\n",
    "\n",
    "df = get_3_data()\n"
   ]
  },
  {
   "cell_type": "code",
   "execution_count": 27,
   "metadata": {},
   "outputs": [],
   "source": [
    "\n",
    "def creat_knowledge(topic, introduction, summary, los):\n",
    "\n",
    "    client = OpenAI()\n",
    "    response = client.chat.completions.create(\n",
    "    model=\"gpt-3.5-turbo-0125\",\n",
    "    messages=[\n",
    "        {\"role\": \"system\", \"content\": \"\"\"You are a helpful assistant to generate techincal note for CFA Refresher Readings articles. Based on the information provided in the prompt by user, create a technical note in Markdown format that summarizes only the key Learning outcomes\n",
    "          under \"Summary of Key Learning Outcome\" heading. Be sure to include any tables or equations necessary. Do not provide any introduction or conclusion. The \"Summary of Learning outcomes\" should have bullets only format which will be used as Knowledge Base for QA prompts.\"\"\"},\n",
    "        {\"role\": \"user\", \"content\": f\"\"\"## Topic\\n{topic}\\n\\n## Introduction\\n{introduction}\\n\\n## Summary\\n{summary}\\n\\n## Learning Outcomes\\n{los}\\n\"\"\"}\n",
    "    ]\n",
    "    )\n",
    "    # print(response.choices[0].message.content)\n",
    "    return response"
   ]
  },
  {
   "cell_type": "code",
   "execution_count": 24,
   "metadata": {},
   "outputs": [
    {
     "name": "stdout",
     "output_type": "stream",
     "text": [
      "## Summary\n",
      "\n",
      "- **Interpreting Interest Rates**: Interest rates can be understood as required rates of return, discount rates, or opportunity costs in financial decision-making processes.\n",
      "\n",
      "- **Decomposing Interest Rates**: An interest rate comprises a real risk-free rate and premiums compensating investors for various risks such as inflation, default, liquidity, and maturity risk.\n",
      "\n",
      "- **Effective Annual Rate**: The effective annual rate accounts for compounding within a year and indicates the annual growth of a unit of currency, inclusive of interest on interest.\n",
      "\n",
      "- **Future and Present Value Calculation**: By using factors like the future value factor ((1 + r)^N) and the present value factor ((1 + r)^-N), one can calculate the future value and present value of a single sum of money, annuities (ordinary and annuity due), perpetuities, and uneven cash flows.\n",
      "\n",
      "- **Time Line Representation**: A time line can be used to model and solve time value of money problems, visually representing cash flows indexed from the present (0) to future periods with equally spaced hash marks.\n"
     ]
    }
   ],
   "source": [
    "\n",
    "# topic, intro, los, summary = df.loc[0]\n",
    "# response = creat_knowledge(topic, intro, summary, los)"
   ]
  },
  {
   "cell_type": "code",
   "execution_count": 28,
   "metadata": {},
   "outputs": [],
   "source": [
    "response_list = []\n",
    "for i in range(4):\n",
    "    topic, intro, los, summary = df.loc[i]\n",
    "    resp = creat_knowledge(topic, intro, summary, los)\n",
    "    response_list.append([los,resp.choices[0].message.content])\n",
    "\n"
   ]
  },
  {
   "cell_type": "code",
   "execution_count": 26,
   "metadata": {},
   "outputs": [
    {
     "name": "stdout",
     "output_type": "stream",
     "text": [
      "## Summary\n",
      "\n",
      "- **Interest rates:** They represent the required rate of return, discount rate, or opportunity cost. They can be decomposed into a real risk-free rate and various premiums to compensate for different types of risks.\n",
      "  \n",
      "- **Effective annual rate (EAR):** It reflects the growth of one unit of currency in a year with compound interest included. It can be calculated based on the stated annual interest rate and the compounding frequency.\n",
      "  \n",
      "- **Future value (FV) and Present value (PV):** FV is determined by multiplying PV with the future value factor, while PV is obtained by multiplying FV with the present value factor. These concepts are applicable to single sums, ordinary annuities, annuities due, perpetuities (PV only), and series of uneven cash flows.\n",
      "  \n",
      "- **Time value of money problems:** They can be solved for different compounding frequencies using relevant formulas and concepts. Annuities, both ordinary and annuity due, as well as perpetuities, can be calculated using appropriate factors.\n",
      "  \n",
      "- **Time line modeling:** Representing cash flows on a time line helps in visualizing and solving time value of money problems effectively. It allows for indexing cash flows and understanding their timing in relation to each other.\n",
      "## Summary\n",
      "\n",
      "- **Probability Distributions**:\n",
      "  - Define and distinguish between discrete and continuous random variables and their probability functions.\n",
      "  - Interpret cumulative distribution functions and calculate probabilities for random variables.\n",
      "  \n",
      "- **Discrete Distributions**:\n",
      "  - Understand and calculate probabilities for discrete uniform, Bernoulli, and binomial random variables.\n",
      "  - Construct binomial trees for modeling stock price movement.\n",
      "\n",
      "- **Continuous Distributions**:\n",
      "  - Define and interpret probabilities for continuous uniform distributions.\n",
      "\n",
      "- **Normal Distribution**:\n",
      "  - Explain key properties of the normal distribution, including probabilities within standard deviations.\n",
      "  - Define standard normal distribution, standardize random variables, and calculate probabilities.\n",
      "  \n",
      "- **Multivariate Distributions and Portfolio Management**:\n",
      "  - Understand multivariate distributions, correlation implications, and shortfall risk.\n",
      "  - Calculate safety-first ratio and optimize portfolios using Roy’s safety-first criterion.\n",
      "  \n",
      "- **Lognormal Distribution**:\n",
      "  - Describe the relationship between normal and lognormal distributions, specifically for modeling asset prices.\n",
      "  \n",
      "- **Compound Rates of Return**:\n",
      "  - Differentiate between discrete and continuous compounding, calculate continuously compounded rates of return.\n",
      "\n",
      "- **Monte Carlo Simulation**:\n",
      "  - Explain the concept and application of Monte Carlo simulation in complex financial systems, including risk management and security valuation.\n",
      "## Summary\n",
      "\n",
      "Multiple linear regression is used to model the linear relationship between one dependent variable and two or more independent variables. In practice, multiple regressions are used to explain relationships between financial variables, to test existing theories, or to make forecasts. A multiple regression model is represented by the equation:\n",
      "\n",
      "\\[ Y = b_0 + b_1X_1 + b_2X_2 + ... + b_kX_k \\]\n",
      "\n",
      "Here, \\( b_0 \\) is the model’s intercept, while \\( b_1 \\) to \\( b_k \\) are the slope coefficients for independent variables \\( X_1 \\) to \\( X_k \\). The assumptions underlying multiple regression models include linearity, homoskedasticity, independence of errors, normality, and independence of independent variables. Diagnostic plots, like scatterplots and residual plots, can help detect violations of these assumptions.\n",
      "\n",
      "Key Learning Outcomes:\n",
      "- Describe the types of investment problems addressed by multiple linear regression and the regression process.\n",
      "- Formulate a multiple linear regression model, interpret estimated regression coefficients, and describe the relation between the dependent variable and independent variables.\n",
      "- Explain the assumptions underlying a multiple linear regression model and interpret residual plots for potential violations of these assumptions.\n",
      "## Learning Outcomes\n",
      "\n",
      "- Define a random variable, an outcome, and an event.\n",
      "- Identify the two defining properties of probability, including mutually exclusive and exhaustive events, and compare and contrast empirical, subjective, and a priori probabilities.\n",
      "- Describe the probability of an event in terms of odds for and against the event.\n",
      "- Calculate and interpret conditional probabilities.\n",
      "- Demonstrate the application of the multiplication and addition rules for probability.\n",
      "- Compare and contrast dependent and independent events.\n",
      "- Calculate and interpret an unconditional probability using the total probability rule.\n",
      "- Calculate and interpret the expected value, variance, and standard deviation of random variables.\n",
      "- Explain the use of conditional expectation in investment applications.\n",
      "- Interpret a probability tree and demonstrate its application to investment problems.\n",
      "- Calculate and interpret the expected value, variance, standard deviation, covariances, and correlations of portfolio returns.\n",
      "- Calculate and interpret the covariances of portfolio returns using the joint probability function.\n",
      "- Calculate and interpret an updated probability using Bayes’ formula.\n",
      "- Identify the most appropriate method to solve a particular counting problem and analyze counting problems using factorial, combination, and permutation concepts.\n"
     ]
    }
   ],
   "source": [
    "for i in range(4):\n",
    "    print(response_list[i][1])\n"
   ]
  }
 ],
 "metadata": {
  "kernelspec": {
   "display_name": ".venv",
   "language": "python",
   "name": "python3"
  },
  "language_info": {
   "codemirror_mode": {
    "name": "ipython",
    "version": 3
   },
   "file_extension": ".py",
   "mimetype": "text/x-python",
   "name": "python",
   "nbconvert_exporter": "python",
   "pygments_lexer": "ipython3",
   "version": "3.11.0"
  }
 },
 "nbformat": 4,
 "nbformat_minor": 2
}
