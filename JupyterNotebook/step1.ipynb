{
 "cells": [
  {
   "cell_type": "markdown",
   "metadata": {},
   "source": [
    "## Creating note base on LOS Summary and Introudctioin"
   ]
  },
  {
   "cell_type": "code",
   "execution_count": null,
   "metadata": {},
   "outputs": [],
   "source": [
    "## Pre-Creating knowledge of LOS\n",
    "import snowflake.connector\n",
    "import pandas as pd\n",
    "from pathlib import Path\n",
    "from dotenv import load_dotenv\n",
    "import os\n",
    "load_dotenv(override=True)\n",
    "from openai import OpenAI\n"
   ]
  },
  {
   "cell_type": "code",
   "execution_count": 2,
   "metadata": {},
   "outputs": [],
   "source": [
    "\n",
    "# Snowflake config\n",
    "snowflake_user = os.getenv('SNOWFLAKE_USER')\n",
    "snowflake_password = os.getenv('SNOWFLAKE_PASSWORD')\n",
    "snowflake_account = os.getenv('SNOWFLAKE_ACCOUNT')\n",
    "database = os.getenv('SNOWFLAKE_DATABASE')\n",
    "schema = os.getenv('SNOWFLAKE_SCHEMA')\n",
    "warehouse = os.getenv('SNOWFLAKE_WAREHOUSE')\n",
    "\n",
    "def get_3_data():\n",
    "    \"\"\"get Introduction LOS Summary\"\"\"\n",
    "    df = {}\n",
    "    try:\n",
    "        conn = snowflake.connector.connect(       \n",
    "            user=snowflake_user,\n",
    "            password=snowflake_password,\n",
    "            account=snowflake_account,\n",
    "            warehouse=warehouse,\n",
    "            database=database,\n",
    "            schema=schema,\n",
    "        )\n",
    "        \n",
    "        # run the sql query to get data from snowflake\n",
    "        cursor = conn.cursor()\n",
    "        sql = f\"SELECT NAMEOFTOPIC, INTRODUCTION, LEARNINGOUTCOME, SUMMARY FROM CFA_COURSES ;\"\n",
    "\n",
    "        results = cursor.execute(sql)\n",
    "        if results is not None:\n",
    "            df = pd.DataFrame(results.fetchall())\n",
    "            df.columns = ['Topic','Introduction', 'Learning outcomes', 'Summary']\n",
    "        else:\n",
    "            print('Fail to get data. Try again')\n",
    "    except NameError as e:\n",
    "        print(f'Program fail: {e}')\n",
    "    finally:\n",
    "        cursor.close()\n",
    "        conn.close()\n",
    "\n",
    "    return df\n",
    "\n",
    "df = get_3_data()\n"
   ]
  },
  {
   "cell_type": "code",
   "execution_count": 34,
   "metadata": {},
   "outputs": [],
   "source": [
    "\n",
    "def creat_knowledge(topic, introduction, summary, los):\n",
    "\n",
    "    client = OpenAI()\n",
    "    response = client.chat.completions.create(\n",
    "    model=\"gpt-3.5-turbo-0125\",\n",
    "    messages=[\n",
    "        {\"role\": \"system\", \"content\": \"\"\"You are a helpful assistant to generate techincal note for CFA Refresher Readings articles. Based on the information provided in the prompt by user, create a technical note in Markdown format that summarizes only the key Learning outcomes\n",
    "under \"Summary of Key Learning Outcome\" heading. Be sure to include any tables or equations necessary. Do not provide any introduction or conclusion. The \"Summary of Learning outcomes\" should have bullets only format which will be used as Knowledge Base for QA prompts.\n",
    "Follow the md file structure below:\n",
    "## Summary of Key Learning Outcome\n",
    "- **bulet points for eachlearning outcomes:** \n",
    "    parapgh for summarizing this learning outcome.\n",
    "- **bulet points for eachlearning outcomes:** \n",
    "    parapgh for summarizing this learning outcome.\"\"\"},\n",
    "        {\"role\": \"user\", \"content\": f\"\"\"## Topic\\n{topic}\\n\\n## Introduction\\n{introduction}\\n\\n## Summary\\n{summary}\\n\\n## Learning Outcomes\\n{los}\\n\"\"\"}\n",
    "    ]\n",
    "    )\n",
    "    # print(response.choices[0].message.content)\n",
    "    return response"
   ]
  },
  {
   "cell_type": "code",
   "execution_count": 43,
   "metadata": {},
   "outputs": [],
   "source": [
    "\n",
    "# topic, intro, los, summary = df.loc[0]\n",
    "# response = creat_knowledge(topic, intro, summary, los)"
   ]
  },
  {
   "cell_type": "code",
   "execution_count": 99,
   "metadata": {},
   "outputs": [
    {
     "name": "stdout",
     "output_type": "stream",
     "text": [
      "[{'topic': 'Time Value of Money in Finance', 'los': 'interpret interest rates as required rates of return, discount rates, or opportunity costs;\\nexplain an interest rate as the sum of a real risk-free rate and premiums that compensate investors for bearing distinct types of risk;\\ncalculate and interpret the effective annual rate, given the stated annual interest rate and the frequency of compounding;\\nsolve time value of money problems for different frequencies of compounding;\\ncalculate and interpret the future value (FV) and present value (PV) of a single sum of money, an ordinary annuity, an annuity due, a perpetuity (PV only), and a series of unequal cash flows;\\ndemonstrate the use of a time line in modeling and solving time value of money problems.', 'note': '## Summary of Key Learning Outcome\\n- **Interpret interest rates as required rates of return, discount rates, or opportunity costs:** \\n    This learning outcome emphasizes the different interpretations of interest rates as required rates of return for investments, discount rates for valuation, or opportunity costs for decision-making.\\n- **Explain an interest rate as the sum of a real risk-free rate and premiums that compensate investors for bearing distinct types of risk:** \\n    Understanding that interest rates comprise a real risk-free rate and premiums for inflation, default, liquidity, and maturity risks helps in assessing the components that make up the overall interest rate.\\n- **Calculate and interpret the effective annual rate, given the stated annual interest rate and the frequency of compounding:** \\n    Being able to compute the effective annual rate from the stated annual interest rate and compounding frequency provides a better understanding of the actual growth of an investment over a year.\\n- **Solve time value of money problems for different frequencies of compounding:** \\n    The ability to solve time value of money problems for various compounding frequencies is essential in correctly valuing investments or loans that compound at different rates.\\n- **Calculate and interpret the future value (FV) and present value (PV) of a single sum of money, an ordinary annuity, an annuity due, a perpetuity (PV only), and a series of unequal cash flows:** \\n    Mastery of calculating the future value and present value of different types of cash flows such as single sums, annuities, perpetuities, and uneven cash flows is crucial for accurate financial decision-making.\\n- **Demonstrate the use of a time line in modeling and solving time value of money problems:** \\n    Utilizing a time line as a visual tool for representing cash flows and periods helps in modeling and solving time value of money problems effectively.'}, {'topic': 'Common Probability Distributions', 'los': 'define a probability distribution and distinguish between discrete and continuous\\n                     random variables and their probability functions;\\ndescribe the set of possible outcomes of a specified discrete random variable;\\ninterpret a cumulative distribution function;\\ncalculate and interpret probabilities for a random variable, given its cumulative\\n                     distribution function;\\ndefine a discrete uniform random variable, a Bernoulli random variable, and a binomial\\n                     random variable;\\ncalculate and interpret probabilities given the discrete uniform and the binomial\\n                     distribution functions;\\nconstruct a binomial tree to describe stock price movement;\\ndefine the continuous uniform distribution and calculate and interpret probabilities,\\n                     given a continuous uniform distribution;\\nexplain the key properties of the normal distribution;\\ndistinguish between a univariate and a multivariate distribution and explain the role\\n                     of correlation in the multivariate normal distribution;\\ndetermine the probability that a normally distributed random variable lies inside\\n                     a given interval;\\ndefine the standard normal distribution, explain how to standardize a random variable,\\n                     and calculate and interpret probabilities using the standard normal distribution;\\ndefine shortfall risk, calculate the safety-first ratio, and select an optimal portfolio\\n                     using Roy’s safety-first criterion;\\nexplain the relationship between normal and lognormal distributions and why the lognormal\\n                     distribution is used to model asset prices;\\ndistinguish between discretely and continuously compounded rates of return and calculate\\n                     and interpret a continuously compounded rate of return, given a specific holding period\\n                     return;\\ndescribe Monte Carlo simulation.', 'note': '## Summary of Key Learning Outcome\\n- **Define a probability distribution and distinguish between discrete and continuous random variables and their probability functions:**\\n    The learning outcome involves understanding what a probability distribution is and being able to differentiate between discrete and continuous random variables and their probability functions.\\n- **Describe the set of possible outcomes of a specified discrete random variable:**\\n    This learning outcome focuses on being able to describe the possible outcomes of a discrete random variable.\\n- **Interpret a cumulative distribution function:**\\n    Understanding how to interpret a cumulative distribution function is the key aspect of this outcome.\\n- **Calculate and interpret probabilities for a random variable, given its cumulative distribution function:**\\n    This learning outcome involves the ability to calculate and interpret probabilities for a random variable based on its cumulative distribution function.\\n- **Define a discrete uniform random variable, a Bernoulli random variable, and a binomial random variable:**\\n    Being able to define and differentiate between discrete uniform, Bernoulli, and binomial random variables is essential for this outcome.\\n- **Calculate and interpret probabilities given the discrete uniform and the binomial distribution functions:**\\n    This learning outcome involves calculating and understanding probabilities using the discrete uniform and binomial distribution functions.'}, {'topic': 'Basics of Multiple Regression and Underlying Assumptions', 'los': 'describe the types of investment problems addressed by multiple linear regression and the regression process;\\nformulate a multiple linear regression model, describe the relation between the dependent variable and several independent variables, and interpret estimated regression coefficients; and\\nexplain the assumptions underlying a multiple linear regression model and interpret residual plots indicating potential violations of these assumptions.', 'note': \"## Summary of Key Learning Outcome\\n- **Types of investment problems addressed by multiple linear regression and regression process:** \\n    Multiple linear regression is used to explain relationships between financial variables, test existing theories, or make forecasts. The regression process involves decisions such as identifying dependent and independent variables, selecting the appropriate model, testing assumptions, examining goodness of fit, and making adjustments.\\n- **Formulating and interpreting a multiple linear regression model:** \\n    The multiple regression model is represented by an equation with an intercept and slope coefficients for independent variables, describing their impact on the dependent variable while holding other variables constant. It is important to interpret these coefficients correctly to understand the relationships in the model.\\n- **Assumptions underlying a multiple linear regression model and interpreting residual plots:** \\n    Five main assumptions - linearity, homoskedasticity, independence of errors, normality, and independence of variables - must be satisfied. Diagnostic plots, such as scatterplots and residual plots, are used to detect violations of these assumptions and ensure the model's reliability.\"}, {'topic': 'Probability Concepts', 'los': 'define a random variable, an outcome, and an event;\\nidentify the two defining properties of probability, including mutually exclusive and exhaustive events, and compare and contrast empirical, subjective, and a priori probabilities;\\ndescribe the probability of an event in terms of odds for and against the event;\\ncalculate and interpret conditional probabilities;\\ndemonstrate the application of the multiplication and addition rules for probability;\\ncompare and contrast dependent and independent events;\\ncalculate and interpret an unconditional probability using the total probability rule;\\ncalculate and interpret the expected value, variance, and standard deviation of random variables;\\nexplain the use of conditional expectation in investment applications;\\ninterpret a probability tree and demonstrate its application to investment problems;\\ncalculate and interpret the expected value, variance, standard deviation, covariances, and correlations of portfolio returns;\\ncalculate and interpret the covariances of portfolio returns using the joint probability function;\\ncalculate and interpret an updated probability using Bayes’ formula;\\nidentify the most appropriate method to solve a particular counting problem and analyze counting problems using factorial, combination, and permutation concepts.', 'note': \"## Summary of Key Learning Outcome\\n- **Define random variable, outcome, and event:** A random variable is a quantity with uncertain outcomes, an outcome is a specific result of a random variable, and an event is a specified set of outcomes of a random variable.\\n- **Identify properties and types of probabilities:** Understanding the two defining properties of probability, such as mutually exclusive and exhaustive events, and differentiating between empirical, subjective, and a priori probabilities.\\n- **Calculate and interpret probabilities:** Ability to calculate probabilities using odds for and against an event, conditional probabilities, and applying multiplication and addition rules for probabilities.\\n- **Distinguish between dependent and independent events:** Differentiating between dependent events where the occurrence of one affects the probability of the other, and independent events where one event's occurrence does not affect the other's probability.\\n- **Apply total probability rule and expected value concepts:** Utilizing the total probability rule to calculate unconditional probabilities and understanding and interpreting expected value, variance, and standard deviation of random variables.\\n- **Understand covariance and correlation:** Grasping the concepts of covariance as a measure of co-movement between random variables, calculating covariances of portfolio returns using joint probability functions, and interpreting correlations between variables.\\n- **Utilize Bayes' formula for updating probabilities:** Applying Bayes' formula to update probabilities based on new information and make more informed decisions.\\n- **Analyze counting problems:** Identifying and choosing the appropriate method to solve counting problems, such as factorial, combination, and permutation concepts, to analyze various scenarios efficiently.\"}]\n"
     ]
    }
   ],
   "source": [
    "response_list = []\n",
    "for i in range(4):\n",
    "    topic, intro, los, summary = df.loc[i]\n",
    "    resp = creat_knowledge(topic, intro, summary, los)\n",
    "    response_list.append(\n",
    "        {\n",
    "            'topic': topic,\n",
    "            'los': los,\n",
    "            'note':resp.choices[0].message.content\n",
    "        })\n",
    "print(response_list)\n"
   ]
  },
  {
   "cell_type": "code",
   "execution_count": 104,
   "metadata": {},
   "outputs": [
    {
     "name": "stdout",
     "output_type": "stream",
     "text": [
      "interpret interest rates as required rates of return, discount rates, or opportunity costs;\n",
      "explain an interest rate as the sum of a real risk-free rate and premiums that compensate investors for bearing distinct types of risk;\n",
      "calculate and interpret the effective annual rate, given the stated annual interest rate and the frequency of compounding;\n",
      "solve time value of money problems for different frequencies of compounding;\n",
      "calculate and interpret the future value (FV) and present value (PV) of a single sum of money, an ordinary annuity, an annuity due, a perpetuity (PV only), and a series of unequal cash flows;\n",
      "demonstrate the use of a time line in modeling and solving time value of money problems.\n"
     ]
    }
   ],
   "source": [
    "print(response_list[0]['los'])"
   ]
  },
  {
   "cell_type": "code",
   "execution_count": 101,
   "metadata": {},
   "outputs": [
    {
     "name": "stdout",
     "output_type": "stream",
     "text": [
      "## Summary of Key Learning Outcome\n",
      "- **Interpret interest rates as required rates of return, discount rates, or opportunity costs:** \n",
      "    This learning outcome emphasizes the different interpretations of interest rates as required rates of return for investments, discount rates for valuation, or opportunity costs for decision-making.\n",
      "- **Explain an interest rate as the sum of a real risk-free rate and premiums that compensate investors for bearing distinct types of risk:** \n",
      "    Understanding that interest rates comprise a real risk-free rate and premiums for inflation, default, liquidity, and maturity risks helps in assessing the components that make up the overall interest rate.\n",
      "- **Calculate and interpret the effective annual rate, given the stated annual interest rate and the frequency of compounding:** \n",
      "    Being able to compute the effective annual rate from the stated annual interest rate and compounding frequency provides a better understanding of the actual growth of an investment over a year.\n",
      "- **Solve time value of money problems for different frequencies of compounding:** \n",
      "    The ability to solve time value of money problems for various compounding frequencies is essential in correctly valuing investments or loans that compound at different rates.\n",
      "- **Calculate and interpret the future value (FV) and present value (PV) of a single sum of money, an ordinary annuity, an annuity due, a perpetuity (PV only), and a series of unequal cash flows:** \n",
      "    Mastery of calculating the future value and present value of different types of cash flows such as single sums, annuities, perpetuities, and uneven cash flows is crucial for accurate financial decision-making.\n",
      "- **Demonstrate the use of a time line in modeling and solving time value of money problems:** \n",
      "    Utilizing a time line as a visual tool for representing cash flows and periods helps in modeling and solving time value of money problems effectively.\n",
      "\n",
      "## Summary of Key Learning Outcome\n",
      "- **Define a probability distribution and distinguish between discrete and continuous random variables and their probability functions:**\n",
      "    The learning outcome involves understanding what a probability distribution is and being able to differentiate between discrete and continuous random variables and their probability functions.\n",
      "- **Describe the set of possible outcomes of a specified discrete random variable:**\n",
      "    This learning outcome focuses on being able to describe the possible outcomes of a discrete random variable.\n",
      "- **Interpret a cumulative distribution function:**\n",
      "    Understanding how to interpret a cumulative distribution function is the key aspect of this outcome.\n",
      "- **Calculate and interpret probabilities for a random variable, given its cumulative distribution function:**\n",
      "    This learning outcome involves the ability to calculate and interpret probabilities for a random variable based on its cumulative distribution function.\n",
      "- **Define a discrete uniform random variable, a Bernoulli random variable, and a binomial random variable:**\n",
      "    Being able to define and differentiate between discrete uniform, Bernoulli, and binomial random variables is essential for this outcome.\n",
      "- **Calculate and interpret probabilities given the discrete uniform and the binomial distribution functions:**\n",
      "    This learning outcome involves calculating and understanding probabilities using the discrete uniform and binomial distribution functions.\n",
      "\n",
      "## Summary of Key Learning Outcome\n",
      "- **Types of investment problems addressed by multiple linear regression and regression process:** \n",
      "    Multiple linear regression is used to explain relationships between financial variables, test existing theories, or make forecasts. The regression process involves decisions such as identifying dependent and independent variables, selecting the appropriate model, testing assumptions, examining goodness of fit, and making adjustments.\n",
      "- **Formulating and interpreting a multiple linear regression model:** \n",
      "    The multiple regression model is represented by an equation with an intercept and slope coefficients for independent variables, describing their impact on the dependent variable while holding other variables constant. It is important to interpret these coefficients correctly to understand the relationships in the model.\n",
      "- **Assumptions underlying a multiple linear regression model and interpreting residual plots:** \n",
      "    Five main assumptions - linearity, homoskedasticity, independence of errors, normality, and independence of variables - must be satisfied. Diagnostic plots, such as scatterplots and residual plots, are used to detect violations of these assumptions and ensure the model's reliability.\n",
      "\n",
      "## Summary of Key Learning Outcome\n",
      "- **Define random variable, outcome, and event:** A random variable is a quantity with uncertain outcomes, an outcome is a specific result of a random variable, and an event is a specified set of outcomes of a random variable.\n",
      "- **Identify properties and types of probabilities:** Understanding the two defining properties of probability, such as mutually exclusive and exhaustive events, and differentiating between empirical, subjective, and a priori probabilities.\n",
      "- **Calculate and interpret probabilities:** Ability to calculate probabilities using odds for and against an event, conditional probabilities, and applying multiplication and addition rules for probabilities.\n",
      "- **Distinguish between dependent and independent events:** Differentiating between dependent events where the occurrence of one affects the probability of the other, and independent events where one event's occurrence does not affect the other's probability.\n",
      "- **Apply total probability rule and expected value concepts:** Utilizing the total probability rule to calculate unconditional probabilities and understanding and interpreting expected value, variance, and standard deviation of random variables.\n",
      "- **Understand covariance and correlation:** Grasping the concepts of covariance as a measure of co-movement between random variables, calculating covariances of portfolio returns using joint probability functions, and interpreting correlations between variables.\n",
      "- **Utilize Bayes' formula for updating probabilities:** Applying Bayes' formula to update probabilities based on new information and make more informed decisions.\n",
      "- **Analyze counting problems:** Identifying and choosing the appropriate method to solve counting problems, such as factorial, combination, and permutation concepts, to analyze various scenarios efficiently.\n",
      "\n",
      "\n"
     ]
    }
   ],
   "source": [
    "# gater the output and put into md\n",
    "\n",
    "md_lines = ''\n",
    "for i in range(4):\n",
    "    # print(response_list[i][1])\n",
    "    md_lines += response_list[i]['note']\n",
    "    md_lines += '\\n''\\n'\n",
    "# print(md_lines)\n",
    "with open(\"../data/LOS_summary.md\", \"w\", encoding=\"utf-8\") as file:\n",
    "    file.writelines(md_lines)\n"
   ]
  },
  {
   "cell_type": "markdown",
   "metadata": {},
   "source": [
    "## Splitter the note base on token length"
   ]
  },
  {
   "cell_type": "markdown",
   "metadata": {},
   "source": [
    "**Spilt LOS with ';'**\n",
    "\n",
    "**Split Technical Note with token**"
   ]
  },
  {
   "cell_type": "code",
   "execution_count": 102,
   "metadata": {},
   "outputs": [],
   "source": [
    "from langchain.text_splitter import RecursiveCharacterTextSplitter\n",
    "import tiktoken\n",
    "from uuid import uuid4\n",
    "from tqdm.auto import tqdm"
   ]
  },
  {
   "cell_type": "code",
   "execution_count": 103,
   "metadata": {},
   "outputs": [
    {
     "data": {
      "text/plain": [
       "<Encoding 'cl100k_base'>"
      ]
     },
     "execution_count": 103,
     "metadata": {},
     "output_type": "execute_result"
    }
   ],
   "source": [
    "tiktoken.encoding_for_model('gpt-3.5-turbo')"
   ]
  },
  {
   "cell_type": "code",
   "execution_count": 67,
   "metadata": {},
   "outputs": [],
   "source": [
    "# tokenize a str\n",
    "\n",
    "tokenizer = tiktoken.get_encoding('cl100k_base')\n",
    "\n",
    "# create the length function\n",
    "def tiktoken_len(text):\n",
    "    tokens = tokenizer.encode(\n",
    "        text,\n",
    "        disallowed_special=()\n",
    "    )\n",
    "    return len(tokens)\n",
    "\n",
    "# def split_text_by_semicolon(data):# -> list[Any]:\n",
    "#     list_chunks = []\n",
    "#     # split LOS by ;\n",
    "#     for i,text in enumerate(data):\n",
    "#         chunks = [chunk.strip() for chunk in text['los'].split(';') if chunk.strip()]\n",
    "#         list_chunks.append(chunks)\n",
    "#     return list_chunks\n"
   ]
  },
  {
   "cell_type": "code",
   "execution_count": 75,
   "metadata": {},
   "outputs": [],
   "source": [
    "\n",
    "text_splitter = RecursiveCharacterTextSplitter(\n",
    "    chunk_size=100,\n",
    "    chunk_overlap=20,\n",
    "    length_function=tiktoken_len,\n",
    "    separators=[\"\\n\\n\", \"\\n\", \" \", \"\"]\n",
    ")"
   ]
  },
  {
   "cell_type": "code",
   "execution_count": 106,
   "metadata": {},
   "outputs": [
    {
     "name": "stdout",
     "output_type": "stream",
     "text": [
      "## Summary of Key Learning Outcome\n",
      "- **Interpret interest rates as required rates of return, discount rates, or opportunity costs:** \n",
      "    This learning outcome emphasizes the different interpretations of interest rates as required rates of return for investments, discount rates for valuation, or opportunity costs for decision-making.\n",
      "- **Explain an interest rate as the sum of a real risk-free rate and premiums that compensate investors for bearing distinct types of risk:**\n"
     ]
    }
   ],
   "source": [
    "note_chunks = text_splitter.split_text(md_lines)\n",
    "print(note_chunks[0])\n",
    "\n",
    "# los_chunks = split_text_by_semicolon(response_list)"
   ]
  },
  {
   "cell_type": "markdown",
   "metadata": {},
   "source": [
    "## Creating Embedding"
   ]
  },
  {
   "cell_type": "code",
   "execution_count": 81,
   "metadata": {},
   "outputs": [],
   "source": [
    "import os\n",
    "\n",
    "# get openai api key from platform.openai.com\n",
    "OPENAI_API_KEY = os.getenv('OPENAI_API_KEY') or 'YOUR_API_KEY'"
   ]
  },
  {
   "cell_type": "code",
   "execution_count": 84,
   "metadata": {},
   "outputs": [],
   "source": [
    "from langchain_openai import OpenAIEmbeddings\n",
    "\n",
    "model_name = 'text-embedding-ada-002'\n",
    "\n",
    "embed = OpenAIEmbeddings(\n",
    "    model=model_name,\n",
    "    openai_api_key=OPENAI_API_KEY  # type: ignore\n",
    ")"
   ]
  },
  {
   "cell_type": "code",
   "execution_count": 107,
   "metadata": {},
   "outputs": [
    {
     "data": {
      "text/plain": [
       "15"
      ]
     },
     "execution_count": 107,
     "metadata": {},
     "output_type": "execute_result"
    }
   ],
   "source": [
    "\n",
    "note_res = embed.embed_documents(note_chunks)\n",
    "# los_res = embed.embed_documents(los_chunks)\n",
    "len(note_res) # directly convert into a vector"
   ]
  },
  {
   "cell_type": "markdown",
   "metadata": {},
   "source": [
    "## Upload to Pinecone"
   ]
  },
  {
   "cell_type": "code",
   "execution_count": 94,
   "metadata": {},
   "outputs": [],
   "source": [
    "from pinecone import Pinecone\n",
    "from dotenv import load_dotenv\n",
    "load_dotenv()\n",
    "import os\n",
    "\n",
    "# initialize connection to pinecone (get API key at app.pinecone.io)\n",
    "api_key = os.getenv(\"PINECONE_API_KEY\")\n",
    "\n",
    "# configure client\n",
    "pc = Pinecone(api_key=api_key)"
   ]
  },
  {
   "cell_type": "code",
   "execution_count": 95,
   "metadata": {},
   "outputs": [],
   "source": [
    "from pinecone import ServerlessSpec\n",
    "\n",
    "spec = ServerlessSpec(\n",
    "    cloud=\"aws\", region=\"us-east-1\" \n",
    ")"
   ]
  },
  {
   "cell_type": "code",
   "execution_count": 98,
   "metadata": {},
   "outputs": [
    {
     "data": {
      "text/plain": [
       "{'dimension': 1536,\n",
       " 'index_fullness': 0.0,\n",
       " 'namespaces': {},\n",
       " 'total_vector_count': 0}"
      ]
     },
     "execution_count": 98,
     "metadata": {},
     "output_type": "execute_result"
    }
   ],
   "source": [
    "import time\n",
    "\n",
    "index_name = 'damg-group3-assignment5-step1'\n",
    "existing_indexes = [\n",
    "    index_info[\"name\"] for index_info in pc.list_indexes()\n",
    "]\n",
    "\n",
    "# check if index already exists (it shouldn't if this is first time)\n",
    "if index_name not in existing_indexes:\n",
    "    # if does not exist, create index\n",
    "    pc.create_index(\n",
    "        index_name,\n",
    "        dimension=1536,  # dimensionality of ada 002\n",
    "        metric='dotproduct',\n",
    "        spec=spec\n",
    "    )\n",
    "    # wait for index to be initialized\n",
    "    while not pc.describe_index(index_name).status['ready']:\n",
    "        time.sleep(1)\n",
    "\n",
    "# connect to index\n",
    "index = pc.Index(index_name)\n",
    "time.sleep(1)\n",
    "# view index stats\n",
    "index.describe_index_stats()"
   ]
  },
  {
   "cell_type": "code",
   "execution_count": 108,
   "metadata": {},
   "outputs": [
    {
     "name": "stderr",
     "output_type": "stream",
     "text": [
      "100%|██████████| 4/4 [00:00<00:00, 745.29it/s]\n"
     ]
    }
   ],
   "source": [
    "from typing import List\n",
    "from tqdm.auto import tqdm\n",
    "from uuid import uuid4\n",
    "\n",
    "batch_limit = 100\n",
    "\n",
    "texts = []\n",
    "metadatas = []\n",
    "\n",
    "for i, record in enumerate(tqdm(response_list)):\n",
    "    # first get metadata fields for this record\n",
    "    metadata = {\n",
    "        'topic': record['topic'],\n",
    "        'LOS': record['los'],\n",
    "        'Note': record['note']\n",
    "    }\n",
    "    # now we create chunks from the record text\n",
    "        #create record with LOS\n",
    "    record['note'] = record['los'] + record['note']\n",
    "    record_texts: List[str] = text_splitter.split_text(record['note'])\n",
    "    # create individual metadata dicts for each chunk\n",
    "    record_metadatas = [{\n",
    "        \"chunk\": j, \"text\": text, **metadata\n",
    "    } for j, text in enumerate(record_texts)]\n",
    "    # append these to current batches\n",
    "    texts.extend(record_texts)\n",
    "    metadatas.extend(record_metadatas)\n",
    "    # if we have reached the batch_limit we can add texts\n",
    "    if len(texts) >= batch_limit:\n",
    "        ids = [str(uuid4()) for _ in range(len(texts))]\n",
    "        embeds = embed.embed_documents(texts)\n",
    "        index.upsert(vectors=zip(ids, embeds, metadatas)) # type: ignore\n",
    "        texts = []\n",
    "        metadatas = []\n",
    "\n",
    "\n",
    "if len(texts) > 0:\n",
    "    ids = [str(uuid4()) for _ in range(len(texts))]\n",
    "    embeds = embed.embed_documents(texts)\n",
    "    index.upsert(vectors=zip(ids, embeds, metadatas)) # type: ignore"
   ]
  },
  {
   "cell_type": "code",
   "execution_count": 109,
   "metadata": {},
   "outputs": [
    {
     "data": {
      "text/plain": [
       "{'dimension': 1536,\n",
       " 'index_fullness': 0.0,\n",
       " 'namespaces': {'': {'vector_count': 25}},\n",
       " 'total_vector_count': 25}"
      ]
     },
     "execution_count": 109,
     "metadata": {},
     "output_type": "execute_result"
    }
   ],
   "source": [
    "index.describe_index_stats()"
   ]
  }
 ],
 "metadata": {
  "kernelspec": {
   "display_name": ".venv",
   "language": "python",
   "name": "python3"
  },
  "language_info": {
   "codemirror_mode": {
    "name": "ipython",
    "version": 3
   },
   "file_extension": ".py",
   "mimetype": "text/x-python",
   "name": "python",
   "nbconvert_exporter": "python",
   "pygments_lexer": "ipython3",
   "version": "3.11.0"
  }
 },
 "nbformat": 4,
 "nbformat_minor": 2
}
